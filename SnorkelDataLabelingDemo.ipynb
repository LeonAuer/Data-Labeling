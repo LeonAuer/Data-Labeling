{
  "nbformat": 4,
  "nbformat_minor": 0,
  "metadata": {
    "colab": {
      "provenance": [],
      "authorship_tag": "ABX9TyM1yVizrkjW2ZJVSv4I5aTl",
      "include_colab_link": true
    },
    "kernelspec": {
      "name": "python3",
      "display_name": "Python 3"
    },
    "language_info": {
      "name": "python"
    }
  },
  "cells": [
    {
      "cell_type": "markdown",
      "metadata": {
        "id": "view-in-github",
        "colab_type": "text"
      },
      "source": [
        "<a href=\"https://colab.research.google.com/github/LeonAuer/Data-Labeling/blob/main/SnorkelDataLabelingDemo.ipynb\" target=\"_parent\"><img src=\"https://colab.research.google.com/assets/colab-badge.svg\" alt=\"Open In Colab\"/></a>"
      ]
    },
    {
      "cell_type": "markdown",
      "source": [
        "Installation"
      ],
      "metadata": {
        "id": "uaqFq9eflCFe"
      }
    },
    {
      "cell_type": "code",
      "source": [
        "pip install snorkel"
      ],
      "metadata": {
        "id": "sTEkTCAHlH4_"
      },
      "execution_count": null,
      "outputs": []
    },
    {
      "cell_type": "markdown",
      "source": [
        "**Task** \n",
        "\n",
        "Label data as a Question or Statement with the help of Snorkel\n",
        "\n",
        "*   5 W (Why,When,Where,Who,Which)\n",
        "*   ?\n",
        "*   !"
      ],
      "metadata": {
        "id": "fRmB74PnlQ7g"
      }
    },
    {
      "cell_type": "code",
      "source": [
        "data = [\"What would you name your boat if you had one? \",\n",
        "\"What's the closest thing to real magic? \",\n",
        "\"Who is the messiest person you know? \",\n",
        "\"What will finally break the internet? \",\n",
        "\"What's the most useless talent you have? \",\n",
        "\"What would be on the gag reel of your life? \",\n",
        "\"What Guilty Pleasure Makes You Feel Alive?\",\n",
        "\"What’s your favorite way to spend a day off?\",\n",
        "\"What type of music are you into?\",\n",
        "\"What was the best vacation you ever took and why?\",\n",
        "\"What are your hobbies, and how did you get into them?\",\n",
        "\"What was your favorite age growing up?\",\n",
        "\"Was the last thing you read?\",\n",
        "\"What's your favorite ice cream topping?\",\n",
        "\"What was the last TV show you binge-watched?\",\n",
        "\"Are you into podcasts or do you only listen to music?\",\n",
        "\"Do you have a favorite holiday? Why or why not?\",\n",
        "\"What’s your favorite sleeping position?\",\n",
        "\"What’s your go-to guilty pleasure?\",\n",
        "\"What’s your favorite quote from a TV show/movie/book?\",\n",
        "\"What’s your favorite thing about your current job?\",\n",
        "\"What annoys you most?\",\n",
        "\"What’s the career highlight you’re most proud of?\",\n",
        "\"What do you remember most about your first job?\",\n",
        "\"How old were you when you started working?\",\n",
        "\"What’s the worst job you’ve ever had?\",\n",
        "\"What’s your favorite part of the workday?\",\n",
        "\"What’s the best career decision you’ve ever made?\",\n",
        "\"What’s the worst career decision you’ve ever made?\",\n",
        "\"How are you?\",\n",
        "\"First, solve the problem. Then, write the code!\",\n",
        "\"Experience is the name everyone gives to their mistakes!\",\n",
        "\" In order to be irreplaceable, one must always be different!\",\n",
        "\"Java is to JavaScript what car is to Carpet!\",\n",
        "\"Knowledge is power!\",\n",
        "\"Ruby is rubbish! PHP is phpantastic!\",\n",
        "\" Code is like humor! When you have to explain it, it’s bad.\",\n",
        "\"Fix the cause, not the symptom!\",\n",
        "\"Simplicity is the soul of efficiency!\",\n",
        "\"Before software can be reusable it first has to be usable!\",\n",
        "\"Make it work, make it right, make it fast!\",\n",
        "\"Programmer: A machine that turns coffee into code.\",\n",
        "\"Computers are fast; programmers keep it slow.\",\n",
        "\"Remember that there is no code faster than no code.\",\n",
        "\"One man’s crappy software is another man’s full-time job.\",\n",
        "\"No code has zero defects.\",\n",
        "\"Deleted code is debugged code.\",\n",
        "\"It’s not a bug — it’s an undocumented feature.\",\n",
        "\"It works on my machine.\",\n",
        "\"It compiles; ship it.\",\n",
        "\"There is no Ctrl-Z in life.\",\n",
        "\"Whitespace is never white.\"]"
      ],
      "metadata": {
        "id": "NoX0HDP-l02M"
      },
      "execution_count": null,
      "outputs": []
    },
    {
      "cell_type": "code",
      "source": [
        "import pandas as pd\n",
        "import random"
      ],
      "metadata": {
        "id": "yZAgD_8YmUqT"
      },
      "execution_count": null,
      "outputs": []
    },
    {
      "cell_type": "code",
      "source": [
        "# Shuffle dataset\n",
        "random.shuffle(data)\n",
        "\n",
        "pd.set_option('display.max_colwidth', None)\n",
        "\n",
        "# Convert to Dataframe\n",
        "df = pd.DataFrame({'sentences':data})\n",
        "     \n",
        "\n",
        "df.head()"
      ],
      "metadata": {
        "id": "OgLVFGs5mqcY"
      },
      "execution_count": null,
      "outputs": []
    },
    {
      "cell_type": "code",
      "source": [
        "# Train & Test\n",
        "#from sklearn.model_selection import train_test_split\n",
        "#df_train,df_test = train_test_split(df,train_size=0.5)\n",
        "     \n",
        "\n",
        "#print(df.shape)\n",
        "#print(df_train.shape)"
      ],
      "metadata": {
        "id": "QS3PCBESm_-9"
      },
      "execution_count": null,
      "outputs": []
    },
    {
      "cell_type": "markdown",
      "source": [
        "**Define Labeling Functions**\n",
        "\n",
        "\n",
        "*   Keyword searches: looking for specific words in a sentence\n",
        "*   Pattern matching: looking for specific syntactical patterns\n",
        "*   Third-party models: using an pre-trained model (usually a model for a different task than the one at hand)\n"
      ],
      "metadata": {
        "id": "GhIfmnoLnHsa"
      }
    },
    {
      "cell_type": "code",
      "source": [
        "from snorkel.labeling import labeling_function,PandasLFApplier,LFAnalysis\n",
        "\n",
        "# Constants for our labels\n",
        "QUESTION = 1\n",
        "STATEMENT = 0\n",
        "ABSTAIN = -1"
      ],
      "metadata": {
        "id": "1QWAFHyHnB9R"
      },
      "execution_count": null,
      "outputs": []
    },
    {
      "cell_type": "code",
      "source": [
        "# Keyword search\n",
        "@labeling_function()\n",
        "def lf_keyword_lookup(x):\n",
        "  keywords = [\"why\",\"what\",\"when\",\"who\",\"where\"] #how\n",
        "  return QUESTION if any(word in x.sentences.lower() for word in keywords) else ABSTAIN"
      ],
      "metadata": {
        "id": "CuoqXSyqnn-Y"
      },
      "execution_count": null,
      "outputs": []
    },
    {
      "cell_type": "code",
      "source": [
        "# Pattern matching\n",
        "import re\n",
        "@labeling_function()\n",
        "def lf_regex(x):\n",
        "  if re.search(r\".*\\?\",x.sentences,flags=re.I):\n",
        "    return QUESTION\n",
        "  elif re.search(r\".*!\",x.sentences,flags=re.I):\n",
        "    return STATEMENT\n",
        "  else:\n",
        "    return ABSTAIN"
      ],
      "metadata": {
        "id": "UgqeKgOQnuGA"
      },
      "execution_count": null,
      "outputs": []
    },
    {
      "cell_type": "code",
      "source": [
        "# Third-party \n",
        "\n",
        "from snorkel.labeling.lf.nlp import nlp_labeling_function\n",
        "from snorkel.preprocess.nlp import SpacyPreprocessor\n",
        "\n",
        "# The SpacyPreprocessor parses the text in text_field and\n",
        "# stores the new enriched representation in doc_field\n",
        "spacy = SpacyPreprocessor(text_field=\"sentences\", doc_field=\"doc\", memoize=True)\n",
        "\n",
        "@labeling_function(pre=[spacy])\n",
        "def lf_spacy(x):\n",
        "    \"\"\"Questions usually have a ? and the 5 W are adverbs\"\"\"\n",
        "    if x.doc.text.endswith('?') or any([token.pos_ == \"ADV\" for token in x.doc]):\n",
        "        return QUESTION\n",
        "    elif x.doc.text.endswith('!'):\n",
        "        return STATEMENT\n",
        "    else:\n",
        "        return ABSTAIN"
      ],
      "metadata": {
        "id": "fcoNLVj1oQsB"
      },
      "execution_count": null,
      "outputs": []
    },
    {
      "cell_type": "code",
      "source": [
        "# Apply Fxn\n",
        "lfs = [lf_keyword_lookup,lf_regex, lf_spacy]\n",
        "applier = PandasLFApplier(lfs=lfs)\n",
        "preds_matrix = applier.apply(df=df)"
      ],
      "metadata": {
        "id": "r6AEoYy2n0lj"
      },
      "execution_count": null,
      "outputs": []
    },
    {
      "cell_type": "code",
      "source": [
        "# Label Matrix\n",
        "preds_matrix"
      ],
      "metadata": {
        "id": "kuynk0L3n61n"
      },
      "execution_count": null,
      "outputs": []
    },
    {
      "cell_type": "code",
      "source": [
        "# Evaluate the Performance\n",
        "LFAnalysis(L=preds_matrix,lfs=lfs).lf_summary()"
      ],
      "metadata": {
        "id": "fTA6302On-IX"
      },
      "execution_count": null,
      "outputs": []
    },
    {
      "cell_type": "markdown",
      "source": [
        "Polarity: The set of unique labels this LF outputs (excluding abstains)\n",
        "\n",
        "Coverage: The fraction of the dataset the LF labels\n",
        "\n",
        "Overlaps: The fraction of the dataset where this LF and at least one other LF label\n",
        "\n",
        "Conflicts: The fraction of the dataset where this LF and at least one other LF label and disagree\n"
      ],
      "metadata": {
        "id": "rGnH6XJMubFW"
      }
    },
    {
      "cell_type": "code",
      "source": [
        "from snorkel.labeling.model import MajorityLabelVoter\n",
        "\n",
        "majority_model = MajorityLabelVoter()\n",
        "preds_label = majority_model.predict(L=preds_matrix)#, tie_break_policy=\"abstain\", return_probs=True)\n",
        "\n",
        "preds_label\n"
      ],
      "metadata": {
        "id": "O94SU5rXopAi"
      },
      "execution_count": null,
      "outputs": []
    },
    {
      "cell_type": "markdown",
      "source": [
        "**tie_break_policy**    \n",
        "   \n",
        "        - \"abstain\": return an abstain vote (-1)\n",
        "\n",
        "        - \"true-random\": randomly choose among the tied options\n",
        "\n",
        "        - \"random\": randomly choose among tied option using deterministic hash"
      ],
      "metadata": {
        "id": "zOx_QPy05b5h"
      }
    },
    {
      "cell_type": "code",
      "source": [
        "df['label'] = preds_label\n",
        "\n",
        "df"
      ],
      "metadata": {
        "id": "Hj8gJXL73fDF"
      },
      "execution_count": null,
      "outputs": []
    }
  ]
}